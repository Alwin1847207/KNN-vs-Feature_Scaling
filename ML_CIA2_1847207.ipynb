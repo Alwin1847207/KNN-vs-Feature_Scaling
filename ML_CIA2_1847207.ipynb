{
  "nbformat": 4,
  "nbformat_minor": 0,
  "metadata": {
    "colab": {
      "name": "ML_CIA2_1847207.ipynb",
      "provenance": [],
      "collapsed_sections": [
        "KeJHq-_RxiXC"
      ],
      "authorship_tag": "ABX9TyNhBgqIsyip+Dur54vyLs3C",
      "include_colab_link": true
    },
    "kernelspec": {
      "name": "python3",
      "display_name": "Python 3"
    }
  },
  "cells": [
    {
      "cell_type": "markdown",
      "metadata": {
        "id": "view-in-github",
        "colab_type": "text"
      },
      "source": [
        "<a href=\"https://colab.research.google.com/github/Alwin1847207/KNN-vs-Feature_Scaling/blob/master/ML_CIA2_1847207.ipynb\" target=\"_parent\"><img src=\"https://colab.research.google.com/assets/colab-badge.svg\" alt=\"Open In Colab\"/></a>"
      ]
    },
    {
      "cell_type": "markdown",
      "metadata": {
        "id": "KeJHq-_RxiXC",
        "colab_type": "text"
      },
      "source": [
        "# Question"
      ]
    },
    {
      "cell_type": "markdown",
      "metadata": {
        "id": "vyDK_KDngaln",
        "colab_type": "text"
      },
      "source": [
        "ML CIA 2 - 1847207 - September 2 2020"
      ]
    },
    {
      "cell_type": "markdown",
      "metadata": {
        "id": "tiQXi1r2gfcJ",
        "colab_type": "text"
      },
      "source": [
        "Question : Implementation Based Interpretation of given problem"
      ]
    },
    {
      "cell_type": "markdown",
      "metadata": {
        "id": "wuxWlMZKsKKH",
        "colab_type": "text"
      },
      "source": [
        "Demonstrate the Impact of Feature scaling on accuracy in KNN algorithm for heart_disease dataset. Include at least one plot/graph to visualize the results. Provide conceptual interpretation of the results. Use heart disease dataset."
      ]
    },
    {
      "cell_type": "markdown",
      "metadata": {
        "id": "AdAxOG7fx0EK",
        "colab_type": "text"
      },
      "source": [
        "Dataset URL : https://drive.google.com/file/d/1fDiD8p6Tkc-jY61Q4-mB_x8P7FCibnOT/view?usp=sharing"
      ]
    },
    {
      "cell_type": "markdown",
      "metadata": {
        "id": "m06XgSsBxozC",
        "colab_type": "text"
      },
      "source": [
        "# Theoretical background"
      ]
    },
    {
      "cell_type": "markdown",
      "metadata": {
        "id": "0N3PCD2rwoSX",
        "colab_type": "text"
      },
      "source": [
        "**Feature scaling**\n",
        "\n",
        "Feature scaling is the method used to normalize the features (attributes) in the dataset. It is also called normalization and is a data preperation step. The aim of feature scalling is to standardize the features present in the dataset, to a fixed range.\n",
        "\n",
        "Two main techniques to perform the feature scalling includes\n",
        "\n",
        "\n",
        "1.  **Min-max Scaling** - It uses the minimum and maximum values of a feature to rescale values within a range - Min-Max Scaling in Scikit-Learn with **MinMaxScaler()** method.\n",
        "2.   **Standard Scaling** - it works by rescaling features to be approximately standard normally distributed - in Scikit-Learn you can use StandardScaler() method.\n",
        "3. **Robust Scaling** - Robust Scaling which is commonly used to overcome the presence of outliers in our data - In Scikit-Learn, we do this using the RobustScaler() method.\n"
      ]
    },
    {
      "cell_type": "markdown",
      "metadata": {
        "id": "1r7e2dfAxL41",
        "colab_type": "text"
      },
      "source": [
        "**KNN algorithm**\n",
        "KNN algorithm is a classification algorithm in Machine Learning. It belongs to the supervised learning domain and finds intense application in pattern recognition, data mining and intrusion detection.\n",
        "\n",
        "Algorithm\n",
        "Let m be the number of training data samples. Let p be an unknown point.\n",
        "\n",
        "    Store the training samples in an array of data points arr[]. This means each element of this array represents a tuple (x, y).\n",
        "\n",
        "    for i=0 to m:\n",
        "      Calculate Euclidean distance d(arr[i], p).\n",
        "\n",
        "    Make set S of K smallest distances obtained. Each of these distances corresponds to an already classified data point.\n",
        "    \n",
        "    Return the majority label among S.\n"
      ]
    },
    {
      "cell_type": "markdown",
      "metadata": {
        "id": "PmDVTc-6zSLE",
        "colab_type": "text"
      },
      "source": [
        "**Impact of Feature scaling on accuracy in KNN algorithm**\n",
        "\n",
        "Features in the dataset are having high importance in KNN. In KNN, the distance of the vectors, and the range of values in each feature drastically influence the prediction results."
      ]
    },
    {
      "cell_type": "markdown",
      "metadata": {
        "id": "xPPHAmBazxGg",
        "colab_type": "text"
      },
      "source": [
        "**What to do ?**\n",
        "\n",
        "To prove the Impact of feature scalling on the accuracy results of the KNN algorithm, with the help of heart_disease dataset."
      ]
    },
    {
      "cell_type": "markdown",
      "metadata": {
        "id": "VNM3vmIS0zBY",
        "colab_type": "text"
      },
      "source": [
        "**Dataset Understanding**\n",
        "\n",
        "This database contains 14 attributes. \n",
        "The attributes are \n",
        "\n",
        "1. age\n",
        "2. sex\n",
        "3. chest pain type (4 values) \n",
        "4. resting blood pressure \n",
        "5. serum cholestoral in mg/dl\n",
        "6. fasting blood sugar > 120 mg/dl\n",
        "7. resting electrocardiographic results (values 0,1,2)\n",
        "8. maximum heart rate achieved \n",
        "9. exercise induced angina \n",
        "10. oldpeak = ST depression induced by exercise relative to rest \n",
        "11. the slope of the peak exercise ST segment \n",
        "12. number of major vessels (0-3) colored by flourosopy \n",
        "13. thal: 3 = normal; 6 = fixed defect; 7 = reversable defect\n",
        "\n",
        "The \"goal\" field refers to the presence of heart disease in the patient. "
      ]
    },
    {
      "cell_type": "markdown",
      "metadata": {
        "id": "TPkw0ABAzH68",
        "colab_type": "text"
      },
      "source": [
        "# Implemention"
      ]
    },
    {
      "cell_type": "markdown",
      "metadata": {
        "id": "HuROw7sr8EKx",
        "colab_type": "text"
      },
      "source": [
        "## Importing and understanding the data"
      ]
    },
    {
      "cell_type": "markdown",
      "metadata": {
        "id": "o5tyS6dAvhPv",
        "colab_type": "text"
      },
      "source": [
        "Importing required libraries"
      ]
    },
    {
      "cell_type": "code",
      "metadata": {
        "id": "-xDaJhirgJ3U",
        "colab_type": "code",
        "colab": {}
      },
      "source": [
        "import pandas as pd\n",
        "import numpy as np\n",
        "\n",
        "from sklearn.neighbors import KNeighborsClassifier\n",
        "from sklearn.preprocessing import StandardScaler\n",
        "from sklearn.preprocessing import MinMaxScaler\n",
        "from sklearn.preprocessing import RobustScaler\n",
        "from sklearn.metrics import accuracy_score\n",
        "from sklearn.model_selection import train_test_split\n",
        "from sklearn.metrics import roc_auc_score\n",
        "\n",
        "import matplotlib.pyplot as plt\n",
        "\n",
        "import warnings\n",
        "warnings.filterwarnings('ignore')"
      ],
      "execution_count": 136,
      "outputs": []
    },
    {
      "cell_type": "markdown",
      "metadata": {
        "id": "rsxWaV0lvnQ1",
        "colab_type": "text"
      },
      "source": [
        "Reading the dataset"
      ]
    },
    {
      "cell_type": "code",
      "metadata": {
        "id": "OYcxlkDfutII",
        "colab_type": "code",
        "colab": {}
      },
      "source": [
        "data_set = pd.read_csv('heart_disease.csv')"
      ],
      "execution_count": 86,
      "outputs": []
    },
    {
      "cell_type": "markdown",
      "metadata": {
        "id": "QasT6h5A2Uem",
        "colab_type": "text"
      },
      "source": [
        "Finding the shape of the dataset"
      ]
    },
    {
      "cell_type": "code",
      "metadata": {
        "id": "IKMj5xet2Rca",
        "colab_type": "code",
        "colab": {
          "base_uri": "https://localhost:8080/",
          "height": 34
        },
        "outputId": "2f6f0788-b642-4c66-f173-40644f9ce5d8"
      },
      "source": [
        "print(data_set.shape)"
      ],
      "execution_count": 87,
      "outputs": [
        {
          "output_type": "stream",
          "text": [
            "(303, 14)\n"
          ],
          "name": "stdout"
        }
      ]
    },
    {
      "cell_type": "markdown",
      "metadata": {
        "id": "oy5A69wP9ciT",
        "colab_type": "text"
      },
      "source": [
        "Describing the dataset"
      ]
    },
    {
      "cell_type": "code",
      "metadata": {
        "id": "XUx-t5aq9erc",
        "colab_type": "code",
        "colab": {
          "base_uri": "https://localhost:8080/",
          "height": 320
        },
        "outputId": "b025dbc4-27df-484c-c09a-2434761eec4f"
      },
      "source": [
        "data_set.describe()"
      ],
      "execution_count": 88,
      "outputs": [
        {
          "output_type": "execute_result",
          "data": {
            "text/html": [
              "<div>\n",
              "<style scoped>\n",
              "    .dataframe tbody tr th:only-of-type {\n",
              "        vertical-align: middle;\n",
              "    }\n",
              "\n",
              "    .dataframe tbody tr th {\n",
              "        vertical-align: top;\n",
              "    }\n",
              "\n",
              "    .dataframe thead th {\n",
              "        text-align: right;\n",
              "    }\n",
              "</style>\n",
              "<table border=\"1\" class=\"dataframe\">\n",
              "  <thead>\n",
              "    <tr style=\"text-align: right;\">\n",
              "      <th></th>\n",
              "      <th>age</th>\n",
              "      <th>sex</th>\n",
              "      <th>cp</th>\n",
              "      <th>trestbps</th>\n",
              "      <th>chol</th>\n",
              "      <th>fbs</th>\n",
              "      <th>restecg</th>\n",
              "      <th>thalach</th>\n",
              "      <th>exang</th>\n",
              "      <th>oldpeak</th>\n",
              "      <th>slope</th>\n",
              "      <th>ca</th>\n",
              "      <th>thal</th>\n",
              "      <th>target</th>\n",
              "    </tr>\n",
              "  </thead>\n",
              "  <tbody>\n",
              "    <tr>\n",
              "      <th>count</th>\n",
              "      <td>303.000000</td>\n",
              "      <td>303.000000</td>\n",
              "      <td>303.000000</td>\n",
              "      <td>303.000000</td>\n",
              "      <td>303.000000</td>\n",
              "      <td>303.000000</td>\n",
              "      <td>303.000000</td>\n",
              "      <td>303.000000</td>\n",
              "      <td>303.000000</td>\n",
              "      <td>303.000000</td>\n",
              "      <td>303.000000</td>\n",
              "      <td>303.000000</td>\n",
              "      <td>303.000000</td>\n",
              "      <td>303.000000</td>\n",
              "    </tr>\n",
              "    <tr>\n",
              "      <th>mean</th>\n",
              "      <td>54.366337</td>\n",
              "      <td>0.683168</td>\n",
              "      <td>0.966997</td>\n",
              "      <td>131.623762</td>\n",
              "      <td>246.264026</td>\n",
              "      <td>0.148515</td>\n",
              "      <td>0.528053</td>\n",
              "      <td>149.646865</td>\n",
              "      <td>0.326733</td>\n",
              "      <td>1.039604</td>\n",
              "      <td>1.399340</td>\n",
              "      <td>0.729373</td>\n",
              "      <td>2.313531</td>\n",
              "      <td>0.544554</td>\n",
              "    </tr>\n",
              "    <tr>\n",
              "      <th>std</th>\n",
              "      <td>9.082101</td>\n",
              "      <td>0.466011</td>\n",
              "      <td>1.032052</td>\n",
              "      <td>17.538143</td>\n",
              "      <td>51.830751</td>\n",
              "      <td>0.356198</td>\n",
              "      <td>0.525860</td>\n",
              "      <td>22.905161</td>\n",
              "      <td>0.469794</td>\n",
              "      <td>1.161075</td>\n",
              "      <td>0.616226</td>\n",
              "      <td>1.022606</td>\n",
              "      <td>0.612277</td>\n",
              "      <td>0.498835</td>\n",
              "    </tr>\n",
              "    <tr>\n",
              "      <th>min</th>\n",
              "      <td>29.000000</td>\n",
              "      <td>0.000000</td>\n",
              "      <td>0.000000</td>\n",
              "      <td>94.000000</td>\n",
              "      <td>126.000000</td>\n",
              "      <td>0.000000</td>\n",
              "      <td>0.000000</td>\n",
              "      <td>71.000000</td>\n",
              "      <td>0.000000</td>\n",
              "      <td>0.000000</td>\n",
              "      <td>0.000000</td>\n",
              "      <td>0.000000</td>\n",
              "      <td>0.000000</td>\n",
              "      <td>0.000000</td>\n",
              "    </tr>\n",
              "    <tr>\n",
              "      <th>25%</th>\n",
              "      <td>47.500000</td>\n",
              "      <td>0.000000</td>\n",
              "      <td>0.000000</td>\n",
              "      <td>120.000000</td>\n",
              "      <td>211.000000</td>\n",
              "      <td>0.000000</td>\n",
              "      <td>0.000000</td>\n",
              "      <td>133.500000</td>\n",
              "      <td>0.000000</td>\n",
              "      <td>0.000000</td>\n",
              "      <td>1.000000</td>\n",
              "      <td>0.000000</td>\n",
              "      <td>2.000000</td>\n",
              "      <td>0.000000</td>\n",
              "    </tr>\n",
              "    <tr>\n",
              "      <th>50%</th>\n",
              "      <td>55.000000</td>\n",
              "      <td>1.000000</td>\n",
              "      <td>1.000000</td>\n",
              "      <td>130.000000</td>\n",
              "      <td>240.000000</td>\n",
              "      <td>0.000000</td>\n",
              "      <td>1.000000</td>\n",
              "      <td>153.000000</td>\n",
              "      <td>0.000000</td>\n",
              "      <td>0.800000</td>\n",
              "      <td>1.000000</td>\n",
              "      <td>0.000000</td>\n",
              "      <td>2.000000</td>\n",
              "      <td>1.000000</td>\n",
              "    </tr>\n",
              "    <tr>\n",
              "      <th>75%</th>\n",
              "      <td>61.000000</td>\n",
              "      <td>1.000000</td>\n",
              "      <td>2.000000</td>\n",
              "      <td>140.000000</td>\n",
              "      <td>274.500000</td>\n",
              "      <td>0.000000</td>\n",
              "      <td>1.000000</td>\n",
              "      <td>166.000000</td>\n",
              "      <td>1.000000</td>\n",
              "      <td>1.600000</td>\n",
              "      <td>2.000000</td>\n",
              "      <td>1.000000</td>\n",
              "      <td>3.000000</td>\n",
              "      <td>1.000000</td>\n",
              "    </tr>\n",
              "    <tr>\n",
              "      <th>max</th>\n",
              "      <td>77.000000</td>\n",
              "      <td>1.000000</td>\n",
              "      <td>3.000000</td>\n",
              "      <td>200.000000</td>\n",
              "      <td>564.000000</td>\n",
              "      <td>1.000000</td>\n",
              "      <td>2.000000</td>\n",
              "      <td>202.000000</td>\n",
              "      <td>1.000000</td>\n",
              "      <td>6.200000</td>\n",
              "      <td>2.000000</td>\n",
              "      <td>4.000000</td>\n",
              "      <td>3.000000</td>\n",
              "      <td>1.000000</td>\n",
              "    </tr>\n",
              "  </tbody>\n",
              "</table>\n",
              "</div>"
            ],
            "text/plain": [
              "              age         sex          cp  ...          ca        thal      target\n",
              "count  303.000000  303.000000  303.000000  ...  303.000000  303.000000  303.000000\n",
              "mean    54.366337    0.683168    0.966997  ...    0.729373    2.313531    0.544554\n",
              "std      9.082101    0.466011    1.032052  ...    1.022606    0.612277    0.498835\n",
              "min     29.000000    0.000000    0.000000  ...    0.000000    0.000000    0.000000\n",
              "25%     47.500000    0.000000    0.000000  ...    0.000000    2.000000    0.000000\n",
              "50%     55.000000    1.000000    1.000000  ...    0.000000    2.000000    1.000000\n",
              "75%     61.000000    1.000000    2.000000  ...    1.000000    3.000000    1.000000\n",
              "max     77.000000    1.000000    3.000000  ...    4.000000    3.000000    1.000000\n",
              "\n",
              "[8 rows x 14 columns]"
            ]
          },
          "metadata": {
            "tags": []
          },
          "execution_count": 88
        }
      ]
    },
    {
      "cell_type": "markdown",
      "metadata": {
        "id": "N47sKrYr8gfl",
        "colab_type": "text"
      },
      "source": [
        "Finding te types of each attributes"
      ]
    },
    {
      "cell_type": "code",
      "metadata": {
        "id": "3Pbvw6O-8jR_",
        "colab_type": "code",
        "colab": {
          "base_uri": "https://localhost:8080/",
          "height": 278
        },
        "outputId": "c4ba5ceb-e2db-4cfa-cd32-4f589a3d91a9"
      },
      "source": [
        "print(data_set.dtypes)"
      ],
      "execution_count": 89,
      "outputs": [
        {
          "output_type": "stream",
          "text": [
            "age           int64\n",
            "sex           int64\n",
            "cp            int64\n",
            "trestbps      int64\n",
            "chol          int64\n",
            "fbs           int64\n",
            "restecg       int64\n",
            "thalach       int64\n",
            "exang         int64\n",
            "oldpeak     float64\n",
            "slope         int64\n",
            "ca            int64\n",
            "thal          int64\n",
            "target        int64\n",
            "dtype: object\n"
          ],
          "name": "stdout"
        }
      ]
    },
    {
      "cell_type": "markdown",
      "metadata": {
        "id": "6n84ZaXM8q0l",
        "colab_type": "text"
      },
      "source": [
        "Displaying the coloums - feature names in the dataset"
      ]
    },
    {
      "cell_type": "code",
      "metadata": {
        "id": "FLA2T1_d8vFH",
        "colab_type": "code",
        "colab": {
          "base_uri": "https://localhost:8080/",
          "height": 69
        },
        "outputId": "8328d5ab-889b-47fc-8862-2b5dcc3acbac"
      },
      "source": [
        "print(data_set.columns)"
      ],
      "execution_count": 90,
      "outputs": [
        {
          "output_type": "stream",
          "text": [
            "Index(['age', 'sex', 'cp', 'trestbps', 'chol', 'fbs', 'restecg', 'thalach',\n",
            "       'exang', 'oldpeak', 'slope', 'ca', 'thal', 'target'],\n",
            "      dtype='object')\n"
          ],
          "name": "stdout"
        }
      ]
    },
    {
      "cell_type": "markdown",
      "metadata": {
        "id": "aXtcWDP-8941",
        "colab_type": "text"
      },
      "source": [
        "Identifing the missing values"
      ]
    },
    {
      "cell_type": "code",
      "metadata": {
        "id": "okHE84Io9Aqr",
        "colab_type": "code",
        "colab": {
          "base_uri": "https://localhost:8080/",
          "height": 444
        },
        "outputId": "5613f95b-56bc-4cac-9d56-d6670321d9ae"
      },
      "source": [
        "data_set.isna()"
      ],
      "execution_count": 91,
      "outputs": [
        {
          "output_type": "execute_result",
          "data": {
            "text/html": [
              "<div>\n",
              "<style scoped>\n",
              "    .dataframe tbody tr th:only-of-type {\n",
              "        vertical-align: middle;\n",
              "    }\n",
              "\n",
              "    .dataframe tbody tr th {\n",
              "        vertical-align: top;\n",
              "    }\n",
              "\n",
              "    .dataframe thead th {\n",
              "        text-align: right;\n",
              "    }\n",
              "</style>\n",
              "<table border=\"1\" class=\"dataframe\">\n",
              "  <thead>\n",
              "    <tr style=\"text-align: right;\">\n",
              "      <th></th>\n",
              "      <th>age</th>\n",
              "      <th>sex</th>\n",
              "      <th>cp</th>\n",
              "      <th>trestbps</th>\n",
              "      <th>chol</th>\n",
              "      <th>fbs</th>\n",
              "      <th>restecg</th>\n",
              "      <th>thalach</th>\n",
              "      <th>exang</th>\n",
              "      <th>oldpeak</th>\n",
              "      <th>slope</th>\n",
              "      <th>ca</th>\n",
              "      <th>thal</th>\n",
              "      <th>target</th>\n",
              "    </tr>\n",
              "  </thead>\n",
              "  <tbody>\n",
              "    <tr>\n",
              "      <th>0</th>\n",
              "      <td>False</td>\n",
              "      <td>False</td>\n",
              "      <td>False</td>\n",
              "      <td>False</td>\n",
              "      <td>False</td>\n",
              "      <td>False</td>\n",
              "      <td>False</td>\n",
              "      <td>False</td>\n",
              "      <td>False</td>\n",
              "      <td>False</td>\n",
              "      <td>False</td>\n",
              "      <td>False</td>\n",
              "      <td>False</td>\n",
              "      <td>False</td>\n",
              "    </tr>\n",
              "    <tr>\n",
              "      <th>1</th>\n",
              "      <td>False</td>\n",
              "      <td>False</td>\n",
              "      <td>False</td>\n",
              "      <td>False</td>\n",
              "      <td>False</td>\n",
              "      <td>False</td>\n",
              "      <td>False</td>\n",
              "      <td>False</td>\n",
              "      <td>False</td>\n",
              "      <td>False</td>\n",
              "      <td>False</td>\n",
              "      <td>False</td>\n",
              "      <td>False</td>\n",
              "      <td>False</td>\n",
              "    </tr>\n",
              "    <tr>\n",
              "      <th>2</th>\n",
              "      <td>False</td>\n",
              "      <td>False</td>\n",
              "      <td>False</td>\n",
              "      <td>False</td>\n",
              "      <td>False</td>\n",
              "      <td>False</td>\n",
              "      <td>False</td>\n",
              "      <td>False</td>\n",
              "      <td>False</td>\n",
              "      <td>False</td>\n",
              "      <td>False</td>\n",
              "      <td>False</td>\n",
              "      <td>False</td>\n",
              "      <td>False</td>\n",
              "    </tr>\n",
              "    <tr>\n",
              "      <th>3</th>\n",
              "      <td>False</td>\n",
              "      <td>False</td>\n",
              "      <td>False</td>\n",
              "      <td>False</td>\n",
              "      <td>False</td>\n",
              "      <td>False</td>\n",
              "      <td>False</td>\n",
              "      <td>False</td>\n",
              "      <td>False</td>\n",
              "      <td>False</td>\n",
              "      <td>False</td>\n",
              "      <td>False</td>\n",
              "      <td>False</td>\n",
              "      <td>False</td>\n",
              "    </tr>\n",
              "    <tr>\n",
              "      <th>4</th>\n",
              "      <td>False</td>\n",
              "      <td>False</td>\n",
              "      <td>False</td>\n",
              "      <td>False</td>\n",
              "      <td>False</td>\n",
              "      <td>False</td>\n",
              "      <td>False</td>\n",
              "      <td>False</td>\n",
              "      <td>False</td>\n",
              "      <td>False</td>\n",
              "      <td>False</td>\n",
              "      <td>False</td>\n",
              "      <td>False</td>\n",
              "      <td>False</td>\n",
              "    </tr>\n",
              "    <tr>\n",
              "      <th>...</th>\n",
              "      <td>...</td>\n",
              "      <td>...</td>\n",
              "      <td>...</td>\n",
              "      <td>...</td>\n",
              "      <td>...</td>\n",
              "      <td>...</td>\n",
              "      <td>...</td>\n",
              "      <td>...</td>\n",
              "      <td>...</td>\n",
              "      <td>...</td>\n",
              "      <td>...</td>\n",
              "      <td>...</td>\n",
              "      <td>...</td>\n",
              "      <td>...</td>\n",
              "    </tr>\n",
              "    <tr>\n",
              "      <th>298</th>\n",
              "      <td>False</td>\n",
              "      <td>False</td>\n",
              "      <td>False</td>\n",
              "      <td>False</td>\n",
              "      <td>False</td>\n",
              "      <td>False</td>\n",
              "      <td>False</td>\n",
              "      <td>False</td>\n",
              "      <td>False</td>\n",
              "      <td>False</td>\n",
              "      <td>False</td>\n",
              "      <td>False</td>\n",
              "      <td>False</td>\n",
              "      <td>False</td>\n",
              "    </tr>\n",
              "    <tr>\n",
              "      <th>299</th>\n",
              "      <td>False</td>\n",
              "      <td>False</td>\n",
              "      <td>False</td>\n",
              "      <td>False</td>\n",
              "      <td>False</td>\n",
              "      <td>False</td>\n",
              "      <td>False</td>\n",
              "      <td>False</td>\n",
              "      <td>False</td>\n",
              "      <td>False</td>\n",
              "      <td>False</td>\n",
              "      <td>False</td>\n",
              "      <td>False</td>\n",
              "      <td>False</td>\n",
              "    </tr>\n",
              "    <tr>\n",
              "      <th>300</th>\n",
              "      <td>False</td>\n",
              "      <td>False</td>\n",
              "      <td>False</td>\n",
              "      <td>False</td>\n",
              "      <td>False</td>\n",
              "      <td>False</td>\n",
              "      <td>False</td>\n",
              "      <td>False</td>\n",
              "      <td>False</td>\n",
              "      <td>False</td>\n",
              "      <td>False</td>\n",
              "      <td>False</td>\n",
              "      <td>False</td>\n",
              "      <td>False</td>\n",
              "    </tr>\n",
              "    <tr>\n",
              "      <th>301</th>\n",
              "      <td>False</td>\n",
              "      <td>False</td>\n",
              "      <td>False</td>\n",
              "      <td>False</td>\n",
              "      <td>False</td>\n",
              "      <td>False</td>\n",
              "      <td>False</td>\n",
              "      <td>False</td>\n",
              "      <td>False</td>\n",
              "      <td>False</td>\n",
              "      <td>False</td>\n",
              "      <td>False</td>\n",
              "      <td>False</td>\n",
              "      <td>False</td>\n",
              "    </tr>\n",
              "    <tr>\n",
              "      <th>302</th>\n",
              "      <td>False</td>\n",
              "      <td>False</td>\n",
              "      <td>False</td>\n",
              "      <td>False</td>\n",
              "      <td>False</td>\n",
              "      <td>False</td>\n",
              "      <td>False</td>\n",
              "      <td>False</td>\n",
              "      <td>False</td>\n",
              "      <td>False</td>\n",
              "      <td>False</td>\n",
              "      <td>False</td>\n",
              "      <td>False</td>\n",
              "      <td>False</td>\n",
              "    </tr>\n",
              "  </tbody>\n",
              "</table>\n",
              "<p>303 rows × 14 columns</p>\n",
              "</div>"
            ],
            "text/plain": [
              "       age    sex     cp  trestbps   chol  ...  oldpeak  slope     ca   thal  target\n",
              "0    False  False  False     False  False  ...    False  False  False  False   False\n",
              "1    False  False  False     False  False  ...    False  False  False  False   False\n",
              "2    False  False  False     False  False  ...    False  False  False  False   False\n",
              "3    False  False  False     False  False  ...    False  False  False  False   False\n",
              "4    False  False  False     False  False  ...    False  False  False  False   False\n",
              "..     ...    ...    ...       ...    ...  ...      ...    ...    ...    ...     ...\n",
              "298  False  False  False     False  False  ...    False  False  False  False   False\n",
              "299  False  False  False     False  False  ...    False  False  False  False   False\n",
              "300  False  False  False     False  False  ...    False  False  False  False   False\n",
              "301  False  False  False     False  False  ...    False  False  False  False   False\n",
              "302  False  False  False     False  False  ...    False  False  False  False   False\n",
              "\n",
              "[303 rows x 14 columns]"
            ]
          },
          "metadata": {
            "tags": []
          },
          "execution_count": 91
        }
      ]
    },
    {
      "cell_type": "code",
      "metadata": {
        "id": "449gxB4T9Jih",
        "colab_type": "code",
        "colab": {
          "base_uri": "https://localhost:8080/",
          "height": 444
        },
        "outputId": "e7b8bee3-ac0e-4e47-c9ee-eb07f221d19c"
      },
      "source": [
        "data_set.isnull()"
      ],
      "execution_count": 92,
      "outputs": [
        {
          "output_type": "execute_result",
          "data": {
            "text/html": [
              "<div>\n",
              "<style scoped>\n",
              "    .dataframe tbody tr th:only-of-type {\n",
              "        vertical-align: middle;\n",
              "    }\n",
              "\n",
              "    .dataframe tbody tr th {\n",
              "        vertical-align: top;\n",
              "    }\n",
              "\n",
              "    .dataframe thead th {\n",
              "        text-align: right;\n",
              "    }\n",
              "</style>\n",
              "<table border=\"1\" class=\"dataframe\">\n",
              "  <thead>\n",
              "    <tr style=\"text-align: right;\">\n",
              "      <th></th>\n",
              "      <th>age</th>\n",
              "      <th>sex</th>\n",
              "      <th>cp</th>\n",
              "      <th>trestbps</th>\n",
              "      <th>chol</th>\n",
              "      <th>fbs</th>\n",
              "      <th>restecg</th>\n",
              "      <th>thalach</th>\n",
              "      <th>exang</th>\n",
              "      <th>oldpeak</th>\n",
              "      <th>slope</th>\n",
              "      <th>ca</th>\n",
              "      <th>thal</th>\n",
              "      <th>target</th>\n",
              "    </tr>\n",
              "  </thead>\n",
              "  <tbody>\n",
              "    <tr>\n",
              "      <th>0</th>\n",
              "      <td>False</td>\n",
              "      <td>False</td>\n",
              "      <td>False</td>\n",
              "      <td>False</td>\n",
              "      <td>False</td>\n",
              "      <td>False</td>\n",
              "      <td>False</td>\n",
              "      <td>False</td>\n",
              "      <td>False</td>\n",
              "      <td>False</td>\n",
              "      <td>False</td>\n",
              "      <td>False</td>\n",
              "      <td>False</td>\n",
              "      <td>False</td>\n",
              "    </tr>\n",
              "    <tr>\n",
              "      <th>1</th>\n",
              "      <td>False</td>\n",
              "      <td>False</td>\n",
              "      <td>False</td>\n",
              "      <td>False</td>\n",
              "      <td>False</td>\n",
              "      <td>False</td>\n",
              "      <td>False</td>\n",
              "      <td>False</td>\n",
              "      <td>False</td>\n",
              "      <td>False</td>\n",
              "      <td>False</td>\n",
              "      <td>False</td>\n",
              "      <td>False</td>\n",
              "      <td>False</td>\n",
              "    </tr>\n",
              "    <tr>\n",
              "      <th>2</th>\n",
              "      <td>False</td>\n",
              "      <td>False</td>\n",
              "      <td>False</td>\n",
              "      <td>False</td>\n",
              "      <td>False</td>\n",
              "      <td>False</td>\n",
              "      <td>False</td>\n",
              "      <td>False</td>\n",
              "      <td>False</td>\n",
              "      <td>False</td>\n",
              "      <td>False</td>\n",
              "      <td>False</td>\n",
              "      <td>False</td>\n",
              "      <td>False</td>\n",
              "    </tr>\n",
              "    <tr>\n",
              "      <th>3</th>\n",
              "      <td>False</td>\n",
              "      <td>False</td>\n",
              "      <td>False</td>\n",
              "      <td>False</td>\n",
              "      <td>False</td>\n",
              "      <td>False</td>\n",
              "      <td>False</td>\n",
              "      <td>False</td>\n",
              "      <td>False</td>\n",
              "      <td>False</td>\n",
              "      <td>False</td>\n",
              "      <td>False</td>\n",
              "      <td>False</td>\n",
              "      <td>False</td>\n",
              "    </tr>\n",
              "    <tr>\n",
              "      <th>4</th>\n",
              "      <td>False</td>\n",
              "      <td>False</td>\n",
              "      <td>False</td>\n",
              "      <td>False</td>\n",
              "      <td>False</td>\n",
              "      <td>False</td>\n",
              "      <td>False</td>\n",
              "      <td>False</td>\n",
              "      <td>False</td>\n",
              "      <td>False</td>\n",
              "      <td>False</td>\n",
              "      <td>False</td>\n",
              "      <td>False</td>\n",
              "      <td>False</td>\n",
              "    </tr>\n",
              "    <tr>\n",
              "      <th>...</th>\n",
              "      <td>...</td>\n",
              "      <td>...</td>\n",
              "      <td>...</td>\n",
              "      <td>...</td>\n",
              "      <td>...</td>\n",
              "      <td>...</td>\n",
              "      <td>...</td>\n",
              "      <td>...</td>\n",
              "      <td>...</td>\n",
              "      <td>...</td>\n",
              "      <td>...</td>\n",
              "      <td>...</td>\n",
              "      <td>...</td>\n",
              "      <td>...</td>\n",
              "    </tr>\n",
              "    <tr>\n",
              "      <th>298</th>\n",
              "      <td>False</td>\n",
              "      <td>False</td>\n",
              "      <td>False</td>\n",
              "      <td>False</td>\n",
              "      <td>False</td>\n",
              "      <td>False</td>\n",
              "      <td>False</td>\n",
              "      <td>False</td>\n",
              "      <td>False</td>\n",
              "      <td>False</td>\n",
              "      <td>False</td>\n",
              "      <td>False</td>\n",
              "      <td>False</td>\n",
              "      <td>False</td>\n",
              "    </tr>\n",
              "    <tr>\n",
              "      <th>299</th>\n",
              "      <td>False</td>\n",
              "      <td>False</td>\n",
              "      <td>False</td>\n",
              "      <td>False</td>\n",
              "      <td>False</td>\n",
              "      <td>False</td>\n",
              "      <td>False</td>\n",
              "      <td>False</td>\n",
              "      <td>False</td>\n",
              "      <td>False</td>\n",
              "      <td>False</td>\n",
              "      <td>False</td>\n",
              "      <td>False</td>\n",
              "      <td>False</td>\n",
              "    </tr>\n",
              "    <tr>\n",
              "      <th>300</th>\n",
              "      <td>False</td>\n",
              "      <td>False</td>\n",
              "      <td>False</td>\n",
              "      <td>False</td>\n",
              "      <td>False</td>\n",
              "      <td>False</td>\n",
              "      <td>False</td>\n",
              "      <td>False</td>\n",
              "      <td>False</td>\n",
              "      <td>False</td>\n",
              "      <td>False</td>\n",
              "      <td>False</td>\n",
              "      <td>False</td>\n",
              "      <td>False</td>\n",
              "    </tr>\n",
              "    <tr>\n",
              "      <th>301</th>\n",
              "      <td>False</td>\n",
              "      <td>False</td>\n",
              "      <td>False</td>\n",
              "      <td>False</td>\n",
              "      <td>False</td>\n",
              "      <td>False</td>\n",
              "      <td>False</td>\n",
              "      <td>False</td>\n",
              "      <td>False</td>\n",
              "      <td>False</td>\n",
              "      <td>False</td>\n",
              "      <td>False</td>\n",
              "      <td>False</td>\n",
              "      <td>False</td>\n",
              "    </tr>\n",
              "    <tr>\n",
              "      <th>302</th>\n",
              "      <td>False</td>\n",
              "      <td>False</td>\n",
              "      <td>False</td>\n",
              "      <td>False</td>\n",
              "      <td>False</td>\n",
              "      <td>False</td>\n",
              "      <td>False</td>\n",
              "      <td>False</td>\n",
              "      <td>False</td>\n",
              "      <td>False</td>\n",
              "      <td>False</td>\n",
              "      <td>False</td>\n",
              "      <td>False</td>\n",
              "      <td>False</td>\n",
              "    </tr>\n",
              "  </tbody>\n",
              "</table>\n",
              "<p>303 rows × 14 columns</p>\n",
              "</div>"
            ],
            "text/plain": [
              "       age    sex     cp  trestbps   chol  ...  oldpeak  slope     ca   thal  target\n",
              "0    False  False  False     False  False  ...    False  False  False  False   False\n",
              "1    False  False  False     False  False  ...    False  False  False  False   False\n",
              "2    False  False  False     False  False  ...    False  False  False  False   False\n",
              "3    False  False  False     False  False  ...    False  False  False  False   False\n",
              "4    False  False  False     False  False  ...    False  False  False  False   False\n",
              "..     ...    ...    ...       ...    ...  ...      ...    ...    ...    ...     ...\n",
              "298  False  False  False     False  False  ...    False  False  False  False   False\n",
              "299  False  False  False     False  False  ...    False  False  False  False   False\n",
              "300  False  False  False     False  False  ...    False  False  False  False   False\n",
              "301  False  False  False     False  False  ...    False  False  False  False   False\n",
              "302  False  False  False     False  False  ...    False  False  False  False   False\n",
              "\n",
              "[303 rows x 14 columns]"
            ]
          },
          "metadata": {
            "tags": []
          },
          "execution_count": 92
        }
      ]
    },
    {
      "cell_type": "markdown",
      "metadata": {
        "id": "wO6_S-6n183N",
        "colab_type": "text"
      },
      "source": [
        "Displaying the top results in the dataset"
      ]
    },
    {
      "cell_type": "code",
      "metadata": {
        "id": "oGaJCN-L2CEN",
        "colab_type": "code",
        "colab": {
          "base_uri": "https://localhost:8080/",
          "height": 243
        },
        "outputId": "ad6709cd-0d67-4989-ef5a-e70e36daa843"
      },
      "source": [
        "print(data_set.head(10))"
      ],
      "execution_count": 93,
      "outputs": [
        {
          "output_type": "stream",
          "text": [
            "   age  sex  cp  trestbps  chol  fbs  ...  exang  oldpeak  slope  ca  thal  target\n",
            "0   63    1   3       145   233    1  ...      0      2.3      0   0     1       1\n",
            "1   37    1   2       130   250    0  ...      0      3.5      0   0     2       1\n",
            "2   41    0   1       130   204    0  ...      0      1.4      2   0     2       1\n",
            "3   56    1   1       120   236    0  ...      0      0.8      2   0     2       1\n",
            "4   57    0   0       120   354    0  ...      1      0.6      2   0     2       1\n",
            "5   57    1   0       140   192    0  ...      0      0.4      1   0     1       1\n",
            "6   56    0   1       140   294    0  ...      0      1.3      1   0     2       1\n",
            "7   44    1   1       120   263    0  ...      0      0.0      2   0     3       1\n",
            "8   52    1   2       172   199    1  ...      0      0.5      2   0     3       1\n",
            "9   57    1   2       150   168    0  ...      0      1.6      2   0     2       1\n",
            "\n",
            "[10 rows x 14 columns]\n"
          ],
          "name": "stdout"
        }
      ]
    },
    {
      "cell_type": "markdown",
      "metadata": {
        "id": "4Xo8jsSb_GOw",
        "colab_type": "text"
      },
      "source": [
        "**Concusion**\n",
        "From the understanding of the dataset, we could observe that the arrtibutes **age,  trestbps, chol, thalach, oldpeak** are of different units. So i would like to applay the scalling on these attributes and analyse the impact on the accuracy of the KNN algorithm."
      ]
    },
    {
      "cell_type": "markdown",
      "metadata": {
        "id": "PZkT-BWi2Zzk",
        "colab_type": "text"
      },
      "source": [
        "## Applying KNN algorithm without Feature Scalling"
      ]
    },
    {
      "cell_type": "code",
      "metadata": {
        "id": "T9xkJSB7u5zU",
        "colab_type": "code",
        "colab": {}
      },
      "source": [
        "#Create copy of dataset.\n",
        "df_model = data_set.copy()"
      ],
      "execution_count": 94,
      "outputs": []
    },
    {
      "cell_type": "code",
      "metadata": {
        "id": "4ihL9NgD-Aza",
        "colab_type": "code",
        "colab": {}
      },
      "source": [
        "#Create KNN Object\n",
        "knn = KNeighborsClassifier()"
      ],
      "execution_count": 95,
      "outputs": []
    },
    {
      "cell_type": "code",
      "metadata": {
        "id": "aSWZGe6H-DVC",
        "colab_type": "code",
        "colab": {}
      },
      "source": [
        "#Create x and y variable\n",
        "x = df_model.drop(columns=['target'])\n",
        "y = df_model['target']"
      ],
      "execution_count": 96,
      "outputs": []
    },
    {
      "cell_type": "code",
      "metadata": {
        "id": "XKWxze0T-Fl3",
        "colab_type": "code",
        "colab": {}
      },
      "source": [
        "#Split data\n",
        "x_train, x_test, y_train, y_test = train_test_split(x, y, test_size=0.2, random_state=4)"
      ],
      "execution_count": 97,
      "outputs": []
    },
    {
      "cell_type": "code",
      "metadata": {
        "id": "slYzbxJC-H_j",
        "colab_type": "code",
        "colab": {
          "base_uri": "https://localhost:8080/",
          "height": 69
        },
        "outputId": "1121e9de-88ce-422c-c73d-86ace988f026"
      },
      "source": [
        "#Training the model\n",
        "knn.fit(x_train, y_train)"
      ],
      "execution_count": 98,
      "outputs": [
        {
          "output_type": "execute_result",
          "data": {
            "text/plain": [
              "KNeighborsClassifier(algorithm='auto', leaf_size=30, metric='minkowski',\n",
              "                     metric_params=None, n_jobs=None, n_neighbors=5, p=2,\n",
              "                     weights='uniform')"
            ]
          },
          "metadata": {
            "tags": []
          },
          "execution_count": 98
        }
      ]
    },
    {
      "cell_type": "code",
      "metadata": {
        "id": "LeUcg9S2-J1c",
        "colab_type": "code",
        "colab": {}
      },
      "source": [
        "#Predict testing set\n",
        "y_pred = knn.predict(x_test)"
      ],
      "execution_count": 99,
      "outputs": []
    },
    {
      "cell_type": "code",
      "metadata": {
        "id": "TGqAPt7W-LxF",
        "colab_type": "code",
        "colab": {
          "base_uri": "https://localhost:8080/",
          "height": 34
        },
        "outputId": "660df7fe-5507-455f-f851-8d6fec8f2459"
      },
      "source": [
        "#Check performance using accuracy\n",
        "print(\"Accuracy : \",accuracy_score(y_test, y_pred))\n",
        "knn_acc = accuracy_score(y_test, y_pred)"
      ],
      "execution_count": 100,
      "outputs": [
        {
          "output_type": "stream",
          "text": [
            "Accuracy :  0.5737704918032787\n"
          ],
          "name": "stdout"
        }
      ]
    },
    {
      "cell_type": "code",
      "metadata": {
        "id": "n4U0Kumi-NzF",
        "colab_type": "code",
        "colab": {
          "base_uri": "https://localhost:8080/",
          "height": 34
        },
        "outputId": "35fa821b-3d8a-4cc1-980f-264590a9585a"
      },
      "source": [
        "#Check performance using roc\n",
        "print(\"ROC : \",roc_auc_score(y_test, y_pred))\n",
        "knn_roc = roc_auc_score(y_test, y_pred)"
      ],
      "execution_count": 101,
      "outputs": [
        {
          "output_type": "stream",
          "text": [
            "ROC :  0.5655555555555556\n"
          ],
          "name": "stdout"
        }
      ]
    },
    {
      "cell_type": "markdown",
      "metadata": {
        "id": "AyT_ICZS3MN3",
        "colab_type": "text"
      },
      "source": [
        "## Applying KNN algorithm with Feature Scalling technique : StandardScaler"
      ]
    },
    {
      "cell_type": "code",
      "metadata": {
        "id": "oRn4WR_zwOjw",
        "colab_type": "code",
        "colab": {}
      },
      "source": [
        "#Create copy of dataset.\n",
        "df_model = data_set.copy()"
      ],
      "execution_count": 102,
      "outputs": []
    },
    {
      "cell_type": "code",
      "metadata": {
        "id": "O11Vd5zT-tIE",
        "colab_type": "code",
        "colab": {}
      },
      "source": [
        "#Rescaling features age, trestbps, chol, thalach, oldpeak.\n",
        "scaler = StandardScaler()"
      ],
      "execution_count": 103,
      "outputs": []
    },
    {
      "cell_type": "code",
      "metadata": {
        "id": "c7ioGDC3-v31",
        "colab_type": "code",
        "colab": {}
      },
      "source": [
        "features = [['age', 'trestbps', 'chol', 'thalach', 'oldpeak']]\n",
        "for feature in features:\n",
        "    df_model[feature] = scaler.fit_transform(df_model[feature])"
      ],
      "execution_count": 104,
      "outputs": []
    },
    {
      "cell_type": "code",
      "metadata": {
        "id": "GHdHNDfZ-zAR",
        "colab_type": "code",
        "colab": {}
      },
      "source": [
        "#Create KNN Object\n",
        "knn = KNeighborsClassifier()"
      ],
      "execution_count": 105,
      "outputs": []
    },
    {
      "cell_type": "code",
      "metadata": {
        "id": "Qa2pAM4p-2B4",
        "colab_type": "code",
        "colab": {}
      },
      "source": [
        "#Create x and y variable\n",
        "x = df_model.drop(columns=['target'])\n",
        "y = df_model['target']"
      ],
      "execution_count": 106,
      "outputs": []
    },
    {
      "cell_type": "code",
      "metadata": {
        "id": "PYdgu1Yo-32Q",
        "colab_type": "code",
        "colab": {}
      },
      "source": [
        "#Split data\n",
        "x_train, x_test, y_train, y_test = train_test_split(x, y, test_size=0.2, random_state=4)"
      ],
      "execution_count": 107,
      "outputs": []
    },
    {
      "cell_type": "code",
      "metadata": {
        "id": "2kPq2aFM-5tC",
        "colab_type": "code",
        "colab": {
          "base_uri": "https://localhost:8080/",
          "height": 69
        },
        "outputId": "059f0cc4-2520-4a87-aef0-a2d926daefc5"
      },
      "source": [
        "#Training the model\n",
        "knn.fit(x_train, y_train)"
      ],
      "execution_count": 108,
      "outputs": [
        {
          "output_type": "execute_result",
          "data": {
            "text/plain": [
              "KNeighborsClassifier(algorithm='auto', leaf_size=30, metric='minkowski',\n",
              "                     metric_params=None, n_jobs=None, n_neighbors=5, p=2,\n",
              "                     weights='uniform')"
            ]
          },
          "metadata": {
            "tags": []
          },
          "execution_count": 108
        }
      ]
    },
    {
      "cell_type": "code",
      "metadata": {
        "id": "KSZkLaR5-7bv",
        "colab_type": "code",
        "colab": {}
      },
      "source": [
        "#Predict testing set\n",
        "y_pred = knn.predict(x_test)"
      ],
      "execution_count": 109,
      "outputs": []
    },
    {
      "cell_type": "code",
      "metadata": {
        "id": "ikWBjJ7z-9Q5",
        "colab_type": "code",
        "colab": {
          "base_uri": "https://localhost:8080/",
          "height": 34
        },
        "outputId": "b9cc8c39-10d8-4b39-ee8d-a94707f9ab8d"
      },
      "source": [
        "#Check performance using accuracy\n",
        "print(\"Accuracy : \",accuracy_score(y_test, y_pred))\n",
        "knn_s_acc = accuracy_score(y_test, y_pred)"
      ],
      "execution_count": 110,
      "outputs": [
        {
          "output_type": "stream",
          "text": [
            "Accuracy :  0.8524590163934426\n"
          ],
          "name": "stdout"
        }
      ]
    },
    {
      "cell_type": "code",
      "metadata": {
        "id": "jcKSnjpN--15",
        "colab_type": "code",
        "colab": {
          "base_uri": "https://localhost:8080/",
          "height": 34
        },
        "outputId": "fc818fca-21ad-41a1-b060-e3e523ea7f3c"
      },
      "source": [
        "#Check performance using roc\n",
        "print(\"ROC : \",roc_auc_score(y_test, y_pred))\n",
        "knn_s_roc = roc_auc_score(y_test, y_pred)"
      ],
      "execution_count": 111,
      "outputs": [
        {
          "output_type": "stream",
          "text": [
            "ROC :  0.8383333333333333\n"
          ],
          "name": "stdout"
        }
      ]
    },
    {
      "cell_type": "markdown",
      "metadata": {
        "id": "Nt7r9FHe300Y",
        "colab_type": "text"
      },
      "source": [
        "## Applying KNN algorithm with Feature Scalling technique : Min-Max Scaling"
      ]
    },
    {
      "cell_type": "code",
      "metadata": {
        "id": "NDiVTl4AwTNY",
        "colab_type": "code",
        "colab": {}
      },
      "source": [
        "#Create copy of dataset.\n",
        "df_model = data_set.copy()"
      ],
      "execution_count": 112,
      "outputs": []
    },
    {
      "cell_type": "code",
      "metadata": {
        "id": "j9An33I1_8KN",
        "colab_type": "code",
        "colab": {}
      },
      "source": [
        "#Rescaling features age, trestbps, chol, thalach, oldpeak.\n",
        "scaler = MinMaxScaler()"
      ],
      "execution_count": 113,
      "outputs": []
    },
    {
      "cell_type": "code",
      "metadata": {
        "id": "Kd_tLLxq_-Ub",
        "colab_type": "code",
        "colab": {}
      },
      "source": [
        "features = [['age', 'trestbps', 'chol', 'thalach', 'oldpeak']]\n",
        "for feature in features:\n",
        "    df_model[feature] = scaler.fit_transform(df_model[feature])"
      ],
      "execution_count": 114,
      "outputs": []
    },
    {
      "cell_type": "code",
      "metadata": {
        "id": "Ngx5HuzGAC8d",
        "colab_type": "code",
        "colab": {}
      },
      "source": [
        "#Create KNN Object\n",
        "knn = KNeighborsClassifier()"
      ],
      "execution_count": 115,
      "outputs": []
    },
    {
      "cell_type": "code",
      "metadata": {
        "id": "SljfpLjhAFWK",
        "colab_type": "code",
        "colab": {}
      },
      "source": [
        "#Create x and y variable\n",
        "x = df_model.drop(columns=['target'])\n",
        "y = df_model['target']"
      ],
      "execution_count": 116,
      "outputs": []
    },
    {
      "cell_type": "code",
      "metadata": {
        "id": "3emKh73_AHQs",
        "colab_type": "code",
        "colab": {}
      },
      "source": [
        "#Split data\n",
        "x_train, x_test, y_train, y_test = train_test_split(x, y, test_size=0.2, random_state=4)"
      ],
      "execution_count": 117,
      "outputs": []
    },
    {
      "cell_type": "code",
      "metadata": {
        "id": "bOPZNNwmAJB2",
        "colab_type": "code",
        "colab": {
          "base_uri": "https://localhost:8080/",
          "height": 69
        },
        "outputId": "df70311a-6c2e-4123-c1c5-61fc2f13adde"
      },
      "source": [
        "#Training the model\n",
        "knn.fit(x_train, y_train)"
      ],
      "execution_count": 118,
      "outputs": [
        {
          "output_type": "execute_result",
          "data": {
            "text/plain": [
              "KNeighborsClassifier(algorithm='auto', leaf_size=30, metric='minkowski',\n",
              "                     metric_params=None, n_jobs=None, n_neighbors=5, p=2,\n",
              "                     weights='uniform')"
            ]
          },
          "metadata": {
            "tags": []
          },
          "execution_count": 118
        }
      ]
    },
    {
      "cell_type": "code",
      "metadata": {
        "id": "StfcGTL1AKox",
        "colab_type": "code",
        "colab": {}
      },
      "source": [
        "#Predict testing set\n",
        "y_pred = knn.predict(x_test)"
      ],
      "execution_count": 119,
      "outputs": []
    },
    {
      "cell_type": "code",
      "metadata": {
        "id": "2DwN3SRbAMTL",
        "colab_type": "code",
        "colab": {
          "base_uri": "https://localhost:8080/",
          "height": 34
        },
        "outputId": "ea809585-1991-42ba-b388-71d37689c29d"
      },
      "source": [
        "#Check performance using accuracy\n",
        "print(\"Accuracy : \",accuracy_score(y_test, y_pred))\n",
        "knn_m_acc = accuracy_score(y_test, y_pred)"
      ],
      "execution_count": 120,
      "outputs": [
        {
          "output_type": "stream",
          "text": [
            "Accuracy :  0.8688524590163934\n"
          ],
          "name": "stdout"
        }
      ]
    },
    {
      "cell_type": "code",
      "metadata": {
        "id": "irIVZ_bJAN9e",
        "colab_type": "code",
        "colab": {
          "base_uri": "https://localhost:8080/",
          "height": 34
        },
        "outputId": "d9082d34-6db3-4a08-c1fb-818ed6cbcf43"
      },
      "source": [
        "#Check performance using roc\n",
        "print(\"ROC : \",roc_auc_score(y_test, y_pred))\n",
        "knn_m_roc = roc_auc_score(y_test, y_pred)"
      ],
      "execution_count": 121,
      "outputs": [
        {
          "output_type": "stream",
          "text": [
            "ROC :  0.8705555555555555\n"
          ],
          "name": "stdout"
        }
      ]
    },
    {
      "cell_type": "markdown",
      "metadata": {
        "id": "SRON-yQ14akQ",
        "colab_type": "text"
      },
      "source": [
        "## Applying KNN algorithm with Feature Scalling technique : RobustScaler"
      ]
    },
    {
      "cell_type": "code",
      "metadata": {
        "id": "WzWdsF0T4ETI",
        "colab_type": "code",
        "colab": {}
      },
      "source": [
        "#Create copy of dataset.\n",
        "df_model = data_set.copy()"
      ],
      "execution_count": 122,
      "outputs": []
    },
    {
      "cell_type": "code",
      "metadata": {
        "id": "ea36875TAXqf",
        "colab_type": "code",
        "colab": {}
      },
      "source": [
        "#Rescaling features age, trestbps, chol, thalach, oldpeak.\n",
        "scaler = RobustScaler()"
      ],
      "execution_count": 123,
      "outputs": []
    },
    {
      "cell_type": "code",
      "metadata": {
        "id": "W45s7kTH4kx6",
        "colab_type": "code",
        "colab": {}
      },
      "source": [
        "features = [['age', 'trestbps', 'chol', 'thalach', 'oldpeak']]\n",
        "\n",
        "for feature in features:\n",
        "    df_model[feature] = scaler.fit_transform(df_model[feature])"
      ],
      "execution_count": 124,
      "outputs": []
    },
    {
      "cell_type": "code",
      "metadata": {
        "id": "T8Mz3KlhAcQS",
        "colab_type": "code",
        "colab": {}
      },
      "source": [
        "#Create KNN Object\n",
        "knn = KNeighborsClassifier()"
      ],
      "execution_count": 125,
      "outputs": []
    },
    {
      "cell_type": "code",
      "metadata": {
        "id": "VABOGPvwAd9O",
        "colab_type": "code",
        "colab": {}
      },
      "source": [
        "#Create x and y variable\n",
        "x = df_model.drop(columns=['target'])\n",
        "y = df_model['target']"
      ],
      "execution_count": 126,
      "outputs": []
    },
    {
      "cell_type": "code",
      "metadata": {
        "id": "ghVPUBowAgD1",
        "colab_type": "code",
        "colab": {}
      },
      "source": [
        "#Split data\n",
        "x_train, x_test, y_train, y_test = train_test_split(x, y, test_size=0.2, random_state=4)"
      ],
      "execution_count": 127,
      "outputs": []
    },
    {
      "cell_type": "code",
      "metadata": {
        "id": "5p9rCptMAiru",
        "colab_type": "code",
        "colab": {
          "base_uri": "https://localhost:8080/",
          "height": 69
        },
        "outputId": "e28f18b1-211c-480e-ecc9-b4d2078beaa2"
      },
      "source": [
        "#Training the model\n",
        "knn.fit(x_train, y_train)"
      ],
      "execution_count": 128,
      "outputs": [
        {
          "output_type": "execute_result",
          "data": {
            "text/plain": [
              "KNeighborsClassifier(algorithm='auto', leaf_size=30, metric='minkowski',\n",
              "                     metric_params=None, n_jobs=None, n_neighbors=5, p=2,\n",
              "                     weights='uniform')"
            ]
          },
          "metadata": {
            "tags": []
          },
          "execution_count": 128
        }
      ]
    },
    {
      "cell_type": "code",
      "metadata": {
        "id": "Am8Wvf2MAlf4",
        "colab_type": "code",
        "colab": {}
      },
      "source": [
        "#Predict testing set\n",
        "y_pred = knn.predict(x_test)"
      ],
      "execution_count": 129,
      "outputs": []
    },
    {
      "cell_type": "code",
      "metadata": {
        "id": "P5t_QMwXAnMl",
        "colab_type": "code",
        "colab": {
          "base_uri": "https://localhost:8080/",
          "height": 34
        },
        "outputId": "6c9663ec-01ab-41b6-a186-c439c2abc2ee"
      },
      "source": [
        "#Check performance using accuracy\n",
        "print(\"Accuracy : \",accuracy_score(y_test, y_pred))\n",
        "knn_r_acc = accuracy_score(y_test, y_pred)"
      ],
      "execution_count": 130,
      "outputs": [
        {
          "output_type": "stream",
          "text": [
            "Accuracy :  0.8360655737704918\n"
          ],
          "name": "stdout"
        }
      ]
    },
    {
      "cell_type": "code",
      "metadata": {
        "id": "4_Ubl_1VApJB",
        "colab_type": "code",
        "colab": {
          "base_uri": "https://localhost:8080/",
          "height": 34
        },
        "outputId": "8f30f236-9d8f-4568-8e50-ee4f1f153b98"
      },
      "source": [
        "#Check performance using roc\n",
        "print(\"ROC : \",roc_auc_score(y_test, y_pred))\n",
        "knn_r_roc = roc_auc_score(y_test, y_pred)"
      ],
      "execution_count": 131,
      "outputs": [
        {
          "output_type": "stream",
          "text": [
            "ROC :  0.8183333333333332\n"
          ],
          "name": "stdout"
        }
      ]
    },
    {
      "cell_type": "markdown",
      "metadata": {
        "id": "JAgfrs9OAsrX",
        "colab_type": "text"
      },
      "source": [
        "## Comparing the different outputs - Conclusion"
      ]
    },
    {
      "cell_type": "markdown",
      "metadata": {
        "id": "I1qnEEObAzVA",
        "colab_type": "text"
      },
      "source": [
        "KNN over the heart_disease dataset, is been carried over with the following scenerios\n",
        "\n",
        "1. KNN without feature scalling\n",
        "2. KNN with Standard Scaler\n",
        "3. KNN with Min-Max Scaler\n",
        "4. KNN with Robust Scaler\n",
        "\n",
        "The accuracy and roc curve for each of the following scenrios is been plotted below"
      ]
    },
    {
      "cell_type": "code",
      "metadata": {
        "id": "Ck7Ws7bgArhl",
        "colab_type": "code",
        "colab": {
          "base_uri": "https://localhost:8080/",
          "height": 34
        },
        "outputId": "9c047030-0154-4ab2-9b6a-5a0ef39130d7"
      },
      "source": [
        "print(\"KNN without feature scalling : Acc - \", knn_acc,\"ROC -\",knn_roc)"
      ],
      "execution_count": 132,
      "outputs": [
        {
          "output_type": "stream",
          "text": [
            "KNN without feature scalling : Acc -  0.5737704918032787 ROC - 0.5655555555555556\n"
          ],
          "name": "stdout"
        }
      ]
    },
    {
      "cell_type": "code",
      "metadata": {
        "id": "SffSfcs3BuKY",
        "colab_type": "code",
        "colab": {
          "base_uri": "https://localhost:8080/",
          "height": 34
        },
        "outputId": "69f20638-2854-43d6-f0c3-16ed021107b5"
      },
      "source": [
        "print(\"KNN with standard scalling : Acc - \", knn_s_acc,\"ROC -\",knn_s_roc)"
      ],
      "execution_count": 133,
      "outputs": [
        {
          "output_type": "stream",
          "text": [
            "KNN with standard scalling : Acc -  0.8524590163934426 ROC - 0.8383333333333333\n"
          ],
          "name": "stdout"
        }
      ]
    },
    {
      "cell_type": "code",
      "metadata": {
        "id": "2e1muxXKBxXp",
        "colab_type": "code",
        "colab": {
          "base_uri": "https://localhost:8080/",
          "height": 34
        },
        "outputId": "3ec1d5af-3372-456d-92c0-27aa3a0b59c6"
      },
      "source": [
        "print(\"KNN with min max scalling : Acc - \", knn_m_acc,\"ROC -\",knn_m_roc)"
      ],
      "execution_count": 134,
      "outputs": [
        {
          "output_type": "stream",
          "text": [
            "KNN with min max scalling : Acc -  0.8688524590163934 ROC - 0.8705555555555555\n"
          ],
          "name": "stdout"
        }
      ]
    },
    {
      "cell_type": "code",
      "metadata": {
        "id": "lDaNGfGPByK8",
        "colab_type": "code",
        "colab": {
          "base_uri": "https://localhost:8080/",
          "height": 34
        },
        "outputId": "c1b6f533-d251-406e-b458-351e64bde03a"
      },
      "source": [
        "print(\"KNN with robust scalling : Acc - \", knn_r_acc,\"ROC -\",knn_r_roc)"
      ],
      "execution_count": 135,
      "outputs": [
        {
          "output_type": "stream",
          "text": [
            "KNN with robust scalling : Acc -  0.8360655737704918 ROC - 0.8183333333333332\n"
          ],
          "name": "stdout"
        }
      ]
    },
    {
      "cell_type": "markdown",
      "metadata": {
        "id": "9gsr8jIjDM66",
        "colab_type": "text"
      },
      "source": [
        "**Ploating Accuracy score obtained**"
      ]
    },
    {
      "cell_type": "code",
      "metadata": {
        "id": "LeEHMzWGCfvD",
        "colab_type": "code",
        "colab": {
          "base_uri": "https://localhost:8080/",
          "height": 295
        },
        "outputId": "1d1b2b43-da61-44c1-db08-ff0085ce752b"
      },
      "source": [
        "accuracy = [knn_acc,knn_s_acc,knn_m_acc,knn_r_acc]\n",
        "\n",
        "labels = ['KNN','KNN-Standard Scalling','KNN Min-Max Scalling','KNN Robust Scalling']\n",
        "\n",
        "# plotting a bar chart \n",
        "plt.bar(labels,accuracy,width = 0.8, color = ['red', 'blue', 'green', 'yellow']) \n",
        "  \n",
        "# naming the x-axis \n",
        "plt.xlabel('Accuracy') \n",
        "# naming the y-axis \n",
        "plt.ylabel('KNN -Feature Scalling') \n",
        "# plot title \n",
        "plt.title('Analysing the accuracy score for different scalling') \n",
        "  \n",
        "# function to show the plot \n",
        "plt.show() "
      ],
      "execution_count": 146,
      "outputs": [
        {
          "output_type": "display_data",
          "data": {
            "image/png": "[encoded data removed]",
            "text/plain": [
              "<Figure size 432x288 with 1 Axes>"
            ]
          },
          "metadata": {
            "tags": [],
            "needs_background": "light"
          }
        }
      ]
    },
    {
      "cell_type": "code",
      "metadata": {
        "id": "fvGy28llDbx-",
        "colab_type": "code",
        "colab": {
          "base_uri": "https://localhost:8080/",
          "height": 295
        },
        "outputId": "72b96f76-b6cc-426d-f873-d8a6808fb7fe"
      },
      "source": [
        "accuracy = [knn_roc,knn_s_roc,knn_m_roc,knn_r_roc]\n",
        "\n",
        "labels = ['KNN','KNN-Standard Scalling','KNN Min-Max Scalling','KNN Robust Scalling']\n",
        "\n",
        "# plotting a bar chart \n",
        "plt.bar(labels,accuracy,width = 0.8, color = ['red', 'blue', 'green', 'yellow']) \n",
        "  \n",
        "# naming the x-axis \n",
        "plt.xlabel('ROC score') \n",
        "# naming the y-axis \n",
        "plt.ylabel('KNN -Feature Scalling') \n",
        "# plot title \n",
        "plt.title('Analysing the roc score for different scalling') \n",
        "  \n",
        "# function to show the plot \n",
        "plt.show() "
      ],
      "execution_count": 147,
      "outputs": [
        {
          "output_type": "display_data",
          "data": {
            "image/png": "[encoded data removed]",
            "text/plain": [
              "<Figure size 432x288 with 1 Axes>"
            ]
          },
          "metadata": {
            "tags": [],
            "needs_background": "light"
          }
        }
      ]
    },
    {
      "cell_type": "markdown",
      "metadata": {
        "id": "gPBpAh7WETBC",
        "colab_type": "text"
      },
      "source": [
        "**Conclusion**\n",
        "\n",
        "WE COULD SEE THAT FEATURE SCALLING HAVE SIGNIFICANT RELATIONASHIP WITH IMPROVING THE ACCURACY OF KNN ALGORITHM WITH RESPECT TO HEART_DISEASE DATASET\n",
        "\n",
        "AMONG THE DIFFERENT SCALLING TECHNIQUES USED - MIN-MAX SCALLING COULD YIELD MORE ACCURACY IN THE GIVEN SCENERIO"
      ]
    },
    {
      "cell_type": "code",
      "metadata": {
        "id": "pz0z-FAWERSw",
        "colab_type": "code",
        "colab": {}
      },
      "source": [
        ""
      ],
      "execution_count": null,
      "outputs": []
    }
  ]
}